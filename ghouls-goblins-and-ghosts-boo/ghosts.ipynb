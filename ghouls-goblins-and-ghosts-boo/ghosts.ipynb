{
 "cells": [
  {
   "cell_type": "code",
   "execution_count": 4,
   "metadata": {},
   "outputs": [],
   "source": [
    "import pandas as pd \n",
    "import numpy as np \n",
    "import seaborn as sns\n",
    "import matplotlib.pyplot as plt"
   ]
  },
  {
   "cell_type": "code",
   "execution_count": 5,
   "metadata": {},
   "outputs": [],
   "source": [
    "train_df = pd.read_csv('data/train.csv.zip')\n",
    "test_df = pd.read_csv('data/test.csv.zip')"
   ]
  },
  {
   "cell_type": "code",
   "execution_count": 8,
   "metadata": {},
   "outputs": [
    {
     "data": {
      "text/html": [
       "<div>\n",
       "<style scoped>\n",
       "    .dataframe tbody tr th:only-of-type {\n",
       "        vertical-align: middle;\n",
       "    }\n",
       "\n",
       "    .dataframe tbody tr th {\n",
       "        vertical-align: top;\n",
       "    }\n",
       "\n",
       "    .dataframe thead th {\n",
       "        text-align: right;\n",
       "    }\n",
       "</style>\n",
       "<table border=\"1\" class=\"dataframe\">\n",
       "  <thead>\n",
       "    <tr style=\"text-align: right;\">\n",
       "      <th></th>\n",
       "      <th>id</th>\n",
       "      <th>bone_length</th>\n",
       "      <th>rotting_flesh</th>\n",
       "      <th>hair_length</th>\n",
       "      <th>has_soul</th>\n",
       "      <th>color</th>\n",
       "      <th>type</th>\n",
       "    </tr>\n",
       "  </thead>\n",
       "  <tbody>\n",
       "    <tr>\n",
       "      <th>0</th>\n",
       "      <td>0</td>\n",
       "      <td>0.354512</td>\n",
       "      <td>0.350839</td>\n",
       "      <td>0.465761</td>\n",
       "      <td>0.781142</td>\n",
       "      <td>clear</td>\n",
       "      <td>Ghoul</td>\n",
       "    </tr>\n",
       "    <tr>\n",
       "      <th>1</th>\n",
       "      <td>1</td>\n",
       "      <td>0.575560</td>\n",
       "      <td>0.425868</td>\n",
       "      <td>0.531401</td>\n",
       "      <td>0.439899</td>\n",
       "      <td>green</td>\n",
       "      <td>Goblin</td>\n",
       "    </tr>\n",
       "    <tr>\n",
       "      <th>2</th>\n",
       "      <td>2</td>\n",
       "      <td>0.467875</td>\n",
       "      <td>0.354330</td>\n",
       "      <td>0.811616</td>\n",
       "      <td>0.791225</td>\n",
       "      <td>black</td>\n",
       "      <td>Ghoul</td>\n",
       "    </tr>\n",
       "    <tr>\n",
       "      <th>3</th>\n",
       "      <td>4</td>\n",
       "      <td>0.776652</td>\n",
       "      <td>0.508723</td>\n",
       "      <td>0.636766</td>\n",
       "      <td>0.884464</td>\n",
       "      <td>black</td>\n",
       "      <td>Ghoul</td>\n",
       "    </tr>\n",
       "    <tr>\n",
       "      <th>4</th>\n",
       "      <td>5</td>\n",
       "      <td>0.566117</td>\n",
       "      <td>0.875862</td>\n",
       "      <td>0.418594</td>\n",
       "      <td>0.636438</td>\n",
       "      <td>green</td>\n",
       "      <td>Ghost</td>\n",
       "    </tr>\n",
       "    <tr>\n",
       "      <th>5</th>\n",
       "      <td>7</td>\n",
       "      <td>0.405680</td>\n",
       "      <td>0.253277</td>\n",
       "      <td>0.441420</td>\n",
       "      <td>0.280324</td>\n",
       "      <td>green</td>\n",
       "      <td>Goblin</td>\n",
       "    </tr>\n",
       "    <tr>\n",
       "      <th>6</th>\n",
       "      <td>8</td>\n",
       "      <td>0.399331</td>\n",
       "      <td>0.568952</td>\n",
       "      <td>0.618391</td>\n",
       "      <td>0.467901</td>\n",
       "      <td>white</td>\n",
       "      <td>Goblin</td>\n",
       "    </tr>\n",
       "    <tr>\n",
       "      <th>7</th>\n",
       "      <td>11</td>\n",
       "      <td>0.516224</td>\n",
       "      <td>0.536429</td>\n",
       "      <td>0.612776</td>\n",
       "      <td>0.468048</td>\n",
       "      <td>clear</td>\n",
       "      <td>Ghoul</td>\n",
       "    </tr>\n",
       "    <tr>\n",
       "      <th>8</th>\n",
       "      <td>12</td>\n",
       "      <td>0.314295</td>\n",
       "      <td>0.671280</td>\n",
       "      <td>0.417267</td>\n",
       "      <td>0.227548</td>\n",
       "      <td>blue</td>\n",
       "      <td>Ghost</td>\n",
       "    </tr>\n",
       "    <tr>\n",
       "      <th>9</th>\n",
       "      <td>19</td>\n",
       "      <td>0.280942</td>\n",
       "      <td>0.701457</td>\n",
       "      <td>0.179633</td>\n",
       "      <td>0.141183</td>\n",
       "      <td>white</td>\n",
       "      <td>Ghost</td>\n",
       "    </tr>\n",
       "  </tbody>\n",
       "</table>\n",
       "</div>"
      ],
      "text/plain": [
       "   id  bone_length  rotting_flesh  hair_length  has_soul  color    type\n",
       "0   0     0.354512       0.350839     0.465761  0.781142  clear   Ghoul\n",
       "1   1     0.575560       0.425868     0.531401  0.439899  green  Goblin\n",
       "2   2     0.467875       0.354330     0.811616  0.791225  black   Ghoul\n",
       "3   4     0.776652       0.508723     0.636766  0.884464  black   Ghoul\n",
       "4   5     0.566117       0.875862     0.418594  0.636438  green   Ghost\n",
       "5   7     0.405680       0.253277     0.441420  0.280324  green  Goblin\n",
       "6   8     0.399331       0.568952     0.618391  0.467901  white  Goblin\n",
       "7  11     0.516224       0.536429     0.612776  0.468048  clear   Ghoul\n",
       "8  12     0.314295       0.671280     0.417267  0.227548   blue   Ghost\n",
       "9  19     0.280942       0.701457     0.179633  0.141183  white   Ghost"
      ]
     },
     "execution_count": 8,
     "metadata": {},
     "output_type": "execute_result"
    }
   ],
   "source": [
    "train_df.head(10)"
   ]
  },
  {
   "cell_type": "code",
   "execution_count": 9,
   "metadata": {},
   "outputs": [
    {
     "data": {
      "text/html": [
       "<div>\n",
       "<style scoped>\n",
       "    .dataframe tbody tr th:only-of-type {\n",
       "        vertical-align: middle;\n",
       "    }\n",
       "\n",
       "    .dataframe tbody tr th {\n",
       "        vertical-align: top;\n",
       "    }\n",
       "\n",
       "    .dataframe thead tr th {\n",
       "        text-align: left;\n",
       "    }\n",
       "\n",
       "    .dataframe thead tr:last-of-type th {\n",
       "        text-align: right;\n",
       "    }\n",
       "</style>\n",
       "<table border=\"1\" class=\"dataframe\">\n",
       "  <thead>\n",
       "    <tr>\n",
       "      <th></th>\n",
       "      <th colspan=\"8\" halign=\"left\">bone_length</th>\n",
       "    </tr>\n",
       "    <tr>\n",
       "      <th></th>\n",
       "      <th>count</th>\n",
       "      <th>mean</th>\n",
       "      <th>std</th>\n",
       "      <th>min</th>\n",
       "      <th>25%</th>\n",
       "      <th>50%</th>\n",
       "      <th>75%</th>\n",
       "      <th>max</th>\n",
       "    </tr>\n",
       "    <tr>\n",
       "      <th>type</th>\n",
       "      <th></th>\n",
       "      <th></th>\n",
       "      <th></th>\n",
       "      <th></th>\n",
       "      <th></th>\n",
       "      <th></th>\n",
       "      <th></th>\n",
       "      <th></th>\n",
       "    </tr>\n",
       "  </thead>\n",
       "  <tbody>\n",
       "    <tr>\n",
       "      <th>Ghost</th>\n",
       "      <td>117.0</td>\n",
       "      <td>0.347466</td>\n",
       "      <td>0.117748</td>\n",
       "      <td>0.061032</td>\n",
       "      <td>0.269748</td>\n",
       "      <td>0.340442</td>\n",
       "      <td>0.417253</td>\n",
       "      <td>0.622371</td>\n",
       "    </tr>\n",
       "    <tr>\n",
       "      <th>Ghoul</th>\n",
       "      <td>129.0</td>\n",
       "      <td>0.517159</td>\n",
       "      <td>0.120600</td>\n",
       "      <td>0.200753</td>\n",
       "      <td>0.439625</td>\n",
       "      <td>0.515397</td>\n",
       "      <td>0.590384</td>\n",
       "      <td>0.817001</td>\n",
       "    </tr>\n",
       "    <tr>\n",
       "      <th>Goblin</th>\n",
       "      <td>125.0</td>\n",
       "      <td>0.429650</td>\n",
       "      <td>0.101917</td>\n",
       "      <td>0.208625</td>\n",
       "      <td>0.355313</td>\n",
       "      <td>0.430797</td>\n",
       "      <td>0.492438</td>\n",
       "      <td>0.678519</td>\n",
       "    </tr>\n",
       "  </tbody>\n",
       "</table>\n",
       "</div>"
      ],
      "text/plain": [
       "       bone_length                                                    \\\n",
       "             count      mean       std       min       25%       50%   \n",
       "type                                                                   \n",
       "Ghost        117.0  0.347466  0.117748  0.061032  0.269748  0.340442   \n",
       "Ghoul        129.0  0.517159  0.120600  0.200753  0.439625  0.515397   \n",
       "Goblin       125.0  0.429650  0.101917  0.208625  0.355313  0.430797   \n",
       "\n",
       "                            \n",
       "             75%       max  \n",
       "type                        \n",
       "Ghost   0.417253  0.622371  \n",
       "Ghoul   0.590384  0.817001  \n",
       "Goblin  0.492438  0.678519  "
      ]
     },
     "execution_count": 9,
     "metadata": {},
     "output_type": "execute_result"
    },
    {
     "data": {
      "image/png": "[encoded data removed]",
      "text/plain": [
       "<Figure size 432x288 with 1 Axes>"
      ]
     },
     "metadata": {
      "needs_background": "light"
     },
     "output_type": "display_data"
    }
   ],
   "source": [
    "sns.boxplot(data = train_df , x = 'type', y = \"bone_length\")\n",
    "train_df[['type','bone_length']].groupby('type').describe()\n"
   ]
  },
  {
   "cell_type": "code",
   "execution_count": 10,
   "metadata": {},
   "outputs": [
    {
     "data": {
      "text/html": [
       "<div>\n",
       "<style scoped>\n",
       "    .dataframe tbody tr th:only-of-type {\n",
       "        vertical-align: middle;\n",
       "    }\n",
       "\n",
       "    .dataframe tbody tr th {\n",
       "        vertical-align: top;\n",
       "    }\n",
       "\n",
       "    .dataframe thead tr th {\n",
       "        text-align: left;\n",
       "    }\n",
       "\n",
       "    .dataframe thead tr:last-of-type th {\n",
       "        text-align: right;\n",
       "    }\n",
       "</style>\n",
       "<table border=\"1\" class=\"dataframe\">\n",
       "  <thead>\n",
       "    <tr>\n",
       "      <th></th>\n",
       "      <th colspan=\"8\" halign=\"left\">rotting_flesh</th>\n",
       "    </tr>\n",
       "    <tr>\n",
       "      <th></th>\n",
       "      <th>count</th>\n",
       "      <th>mean</th>\n",
       "      <th>std</th>\n",
       "      <th>min</th>\n",
       "      <th>25%</th>\n",
       "      <th>50%</th>\n",
       "      <th>75%</th>\n",
       "      <th>max</th>\n",
       "    </tr>\n",
       "    <tr>\n",
       "      <th>type</th>\n",
       "      <th></th>\n",
       "      <th></th>\n",
       "      <th></th>\n",
       "      <th></th>\n",
       "      <th></th>\n",
       "      <th></th>\n",
       "      <th></th>\n",
       "      <th></th>\n",
       "    </tr>\n",
       "  </thead>\n",
       "  <tbody>\n",
       "    <tr>\n",
       "      <th>Ghost</th>\n",
       "      <td>117.0</td>\n",
       "      <td>0.593759</td>\n",
       "      <td>0.142150</td>\n",
       "      <td>0.165539</td>\n",
       "      <td>0.504399</td>\n",
       "      <td>0.603780</td>\n",
       "      <td>0.682687</td>\n",
       "      <td>0.932466</td>\n",
       "    </tr>\n",
       "    <tr>\n",
       "      <th>Ghoul</th>\n",
       "      <td>129.0</td>\n",
       "      <td>0.490515</td>\n",
       "      <td>0.115357</td>\n",
       "      <td>0.172182</td>\n",
       "      <td>0.417474</td>\n",
       "      <td>0.491497</td>\n",
       "      <td>0.561786</td>\n",
       "      <td>0.779153</td>\n",
       "    </tr>\n",
       "    <tr>\n",
       "      <th>Goblin</th>\n",
       "      <td>125.0</td>\n",
       "      <td>0.442357</td>\n",
       "      <td>0.140284</td>\n",
       "      <td>0.095687</td>\n",
       "      <td>0.341187</td>\n",
       "      <td>0.457490</td>\n",
       "      <td>0.530852</td>\n",
       "      <td>0.840049</td>\n",
       "    </tr>\n",
       "  </tbody>\n",
       "</table>\n",
       "</div>"
      ],
      "text/plain": [
       "       rotting_flesh                                                    \\\n",
       "               count      mean       std       min       25%       50%   \n",
       "type                                                                     \n",
       "Ghost          117.0  0.593759  0.142150  0.165539  0.504399  0.603780   \n",
       "Ghoul          129.0  0.490515  0.115357  0.172182  0.417474  0.491497   \n",
       "Goblin         125.0  0.442357  0.140284  0.095687  0.341187  0.457490   \n",
       "\n",
       "                            \n",
       "             75%       max  \n",
       "type                        \n",
       "Ghost   0.682687  0.932466  \n",
       "Ghoul   0.561786  0.779153  \n",
       "Goblin  0.530852  0.840049  "
      ]
     },
     "execution_count": 10,
     "metadata": {},
     "output_type": "execute_result"
    },
    {
     "data": {
      "image/png": "[encoded data removed]",
      "text/plain": [
       "<Figure size 432x288 with 1 Axes>"
      ]
     },
     "metadata": {
      "needs_background": "light"
     },
     "output_type": "display_data"
    }
   ],
   "source": [
    "sns.boxplot(data = train_df , x = 'type', y = \"rotting_flesh\")\n",
    "train_df[['type','rotting_flesh']].groupby('type').describe()\n"
   ]
  },
  {
   "cell_type": "code",
   "execution_count": 11,
   "metadata": {},
   "outputs": [
    {
     "data": {
      "text/html": [
       "<div>\n",
       "<style scoped>\n",
       "    .dataframe tbody tr th:only-of-type {\n",
       "        vertical-align: middle;\n",
       "    }\n",
       "\n",
       "    .dataframe tbody tr th {\n",
       "        vertical-align: top;\n",
       "    }\n",
       "\n",
       "    .dataframe thead tr th {\n",
       "        text-align: left;\n",
       "    }\n",
       "\n",
       "    .dataframe thead tr:last-of-type th {\n",
       "        text-align: right;\n",
       "    }\n",
       "</style>\n",
       "<table border=\"1\" class=\"dataframe\">\n",
       "  <thead>\n",
       "    <tr>\n",
       "      <th></th>\n",
       "      <th colspan=\"8\" halign=\"left\">hair_length</th>\n",
       "    </tr>\n",
       "    <tr>\n",
       "      <th></th>\n",
       "      <th>count</th>\n",
       "      <th>mean</th>\n",
       "      <th>std</th>\n",
       "      <th>min</th>\n",
       "      <th>25%</th>\n",
       "      <th>50%</th>\n",
       "      <th>75%</th>\n",
       "      <th>max</th>\n",
       "    </tr>\n",
       "    <tr>\n",
       "      <th>type</th>\n",
       "      <th></th>\n",
       "      <th></th>\n",
       "      <th></th>\n",
       "      <th></th>\n",
       "      <th></th>\n",
       "      <th></th>\n",
       "      <th></th>\n",
       "      <th></th>\n",
       "    </tr>\n",
       "  </thead>\n",
       "  <tbody>\n",
       "    <tr>\n",
       "      <th>Ghost</th>\n",
       "      <td>117.0</td>\n",
       "      <td>0.373186</td>\n",
       "      <td>0.117642</td>\n",
       "      <td>0.134600</td>\n",
       "      <td>0.299507</td>\n",
       "      <td>0.365142</td>\n",
       "      <td>0.461068</td>\n",
       "      <td>0.636340</td>\n",
       "    </tr>\n",
       "    <tr>\n",
       "      <th>Ghoul</th>\n",
       "      <td>129.0</td>\n",
       "      <td>0.655550</td>\n",
       "      <td>0.138127</td>\n",
       "      <td>0.287008</td>\n",
       "      <td>0.556691</td>\n",
       "      <td>0.667384</td>\n",
       "      <td>0.751614</td>\n",
       "      <td>1.000000</td>\n",
       "    </tr>\n",
       "    <tr>\n",
       "      <th>Goblin</th>\n",
       "      <td>125.0</td>\n",
       "      <td>0.544581</td>\n",
       "      <td>0.116964</td>\n",
       "      <td>0.239212</td>\n",
       "      <td>0.474255</td>\n",
       "      <td>0.558776</td>\n",
       "      <td>0.621787</td>\n",
       "      <td>0.840013</td>\n",
       "    </tr>\n",
       "  </tbody>\n",
       "</table>\n",
       "</div>"
      ],
      "text/plain": [
       "       hair_length                                                    \\\n",
       "             count      mean       std       min       25%       50%   \n",
       "type                                                                   \n",
       "Ghost        117.0  0.373186  0.117642  0.134600  0.299507  0.365142   \n",
       "Ghoul        129.0  0.655550  0.138127  0.287008  0.556691  0.667384   \n",
       "Goblin       125.0  0.544581  0.116964  0.239212  0.474255  0.558776   \n",
       "\n",
       "                            \n",
       "             75%       max  \n",
       "type                        \n",
       "Ghost   0.461068  0.636340  \n",
       "Ghoul   0.751614  1.000000  \n",
       "Goblin  0.621787  0.840013  "
      ]
     },
     "execution_count": 11,
     "metadata": {},
     "output_type": "execute_result"
    },
    {
     "data": {
      "image/png": "[encoded data removed]",
      "text/plain": [
       "<Figure size 432x288 with 1 Axes>"
      ]
     },
     "metadata": {
      "needs_background": "light"
     },
     "output_type": "display_data"
    }
   ],
   "source": [
    "sns.boxplot(data = train_df , x = 'type', y = \"hair_length\")\n",
    "train_df[['type','hair_length']].groupby('type').describe()\n"
   ]
  },
  {
   "cell_type": "code",
   "execution_count": 12,
   "metadata": {},
   "outputs": [
    {
     "data": {
      "text/html": [
       "<div>\n",
       "<style scoped>\n",
       "    .dataframe tbody tr th:only-of-type {\n",
       "        vertical-align: middle;\n",
       "    }\n",
       "\n",
       "    .dataframe tbody tr th {\n",
       "        vertical-align: top;\n",
       "    }\n",
       "\n",
       "    .dataframe thead tr th {\n",
       "        text-align: left;\n",
       "    }\n",
       "\n",
       "    .dataframe thead tr:last-of-type th {\n",
       "        text-align: right;\n",
       "    }\n",
       "</style>\n",
       "<table border=\"1\" class=\"dataframe\">\n",
       "  <thead>\n",
       "    <tr>\n",
       "      <th></th>\n",
       "      <th colspan=\"8\" halign=\"left\">has_soul</th>\n",
       "    </tr>\n",
       "    <tr>\n",
       "      <th></th>\n",
       "      <th>count</th>\n",
       "      <th>mean</th>\n",
       "      <th>std</th>\n",
       "      <th>min</th>\n",
       "      <th>25%</th>\n",
       "      <th>50%</th>\n",
       "      <th>75%</th>\n",
       "      <th>max</th>\n",
       "    </tr>\n",
       "    <tr>\n",
       "      <th>type</th>\n",
       "      <th></th>\n",
       "      <th></th>\n",
       "      <th></th>\n",
       "      <th></th>\n",
       "      <th></th>\n",
       "      <th></th>\n",
       "      <th></th>\n",
       "      <th></th>\n",
       "    </tr>\n",
       "  </thead>\n",
       "  <tbody>\n",
       "    <tr>\n",
       "      <th>Ghost</th>\n",
       "      <td>117.0</td>\n",
       "      <td>0.320023</td>\n",
       "      <td>0.139790</td>\n",
       "      <td>0.009402</td>\n",
       "      <td>0.230361</td>\n",
       "      <td>0.307534</td>\n",
       "      <td>0.415930</td>\n",
       "      <td>0.689980</td>\n",
       "    </tr>\n",
       "    <tr>\n",
       "      <th>Ghoul</th>\n",
       "      <td>129.0</td>\n",
       "      <td>0.601634</td>\n",
       "      <td>0.134813</td>\n",
       "      <td>0.280854</td>\n",
       "      <td>0.501544</td>\n",
       "      <td>0.600393</td>\n",
       "      <td>0.698480</td>\n",
       "      <td>0.935721</td>\n",
       "    </tr>\n",
       "    <tr>\n",
       "      <th>Goblin</th>\n",
       "      <td>125.0</td>\n",
       "      <td>0.478663</td>\n",
       "      <td>0.127293</td>\n",
       "      <td>0.194413</td>\n",
       "      <td>0.377121</td>\n",
       "      <td>0.466024</td>\n",
       "      <td>0.557136</td>\n",
       "      <td>0.854949</td>\n",
       "    </tr>\n",
       "  </tbody>\n",
       "</table>\n",
       "</div>"
      ],
      "text/plain": [
       "       has_soul                                                              \\\n",
       "          count      mean       std       min       25%       50%       75%   \n",
       "type                                                                          \n",
       "Ghost     117.0  0.320023  0.139790  0.009402  0.230361  0.307534  0.415930   \n",
       "Ghoul     129.0  0.601634  0.134813  0.280854  0.501544  0.600393  0.698480   \n",
       "Goblin    125.0  0.478663  0.127293  0.194413  0.377121  0.466024  0.557136   \n",
       "\n",
       "                  \n",
       "             max  \n",
       "type              \n",
       "Ghost   0.689980  \n",
       "Ghoul   0.935721  \n",
       "Goblin  0.854949  "
      ]
     },
     "execution_count": 12,
     "metadata": {},
     "output_type": "execute_result"
    },
    {
     "data": {
      "image/png": "[encoded data removed]",
      "text/plain": [
       "<Figure size 432x288 with 1 Axes>"
      ]
     },
     "metadata": {
      "needs_background": "light"
     },
     "output_type": "display_data"
    }
   ],
   "source": [
    "sns.boxplot(data = train_df , x = 'type', y = \"has_soul\")\n",
    "train_df[['type','has_soul']].groupby('type').describe()\n"
   ]
  },
  {
   "cell_type": "code",
   "execution_count": 13,
   "metadata": {},
   "outputs": [],
   "source": [
    "colors  = pd.get_dummies(train_df.color, prefix= 'color')\n",
    "train_df[list(colors.columns)] = colors\n",
    "train_df = train_df.drop([\"color\"], axis = 1)\n",
    "to_standartize = train_df[[\"bone_length\",\"rotting_flesh\" , \"hair_length\", \"has_soul\"]]\n"
   ]
  },
  {
   "cell_type": "code",
   "execution_count": 14,
   "metadata": {},
   "outputs": [],
   "source": [
    "from sklearn.preprocessing import StandardScaler"
   ]
  },
  {
   "cell_type": "code",
   "execution_count": 15,
   "metadata": {},
   "outputs": [],
   "source": [
    "scaler = StandardScaler()\n",
    "standartized = scaler.fit_transform(to_standartize)\n",
    "train_df[[\"bone_length\",\"rotting_flesh\" , \"hair_length\", \"has_soul\"]] = standartized"
   ]
  },
  {
   "cell_type": "code",
   "execution_count": 16,
   "metadata": {},
   "outputs": [
    {
     "data": {
      "text/plain": [
       "<AxesSubplot:xlabel='type', ylabel='has_soul'>"
      ]
     },
     "execution_count": 16,
     "metadata": {},
     "output_type": "execute_result"
    },
    {
     "data": {
      "image/png": "[encoded data removed]",
      "text/plain": [
       "<Figure size 360x720 with 4 Axes>"
      ]
     },
     "metadata": {
      "needs_background": "light"
     },
     "output_type": "display_data"
    }
   ],
   "source": [
    "fig, axes = plt.subplots(4, 1, figsize=(5,10))\n",
    "sns.boxplot(data = train_df , x = 'type', y = \"bone_length\", ax = axes[0])\n",
    "sns.boxplot(data = train_df , x = 'type', y = \"rotting_flesh\", ax = axes[1])\n",
    "sns.boxplot(data = train_df , x = 'type', y = \"hair_length\", ax = axes[2])\n",
    "sns.boxplot(data = train_df , x = 'type', y = \"has_soul\", ax = axes[3])\n"
   ]
  },
  {
   "cell_type": "code",
   "execution_count": 17,
   "metadata": {},
   "outputs": [
    {
     "name": "stderr",
     "output_type": "stream",
     "text": [
      "<ipython-input-17-8c52c4137220>:6: SettingWithCopyWarning: \n",
      "A value is trying to be set on a copy of a slice from a DataFrame\n",
      "\n",
      "See the caveats in the documentation: https://pandas.pydata.org/pandas-docs/stable/user_guide/indexing.html#returning-a-view-versus-a-copy\n",
      "  y[y== \"Ghoul\"] = 0\n",
      "<ipython-input-17-8c52c4137220>:7: SettingWithCopyWarning: \n",
      "A value is trying to be set on a copy of a slice from a DataFrame\n",
      "\n",
      "See the caveats in the documentation: https://pandas.pydata.org/pandas-docs/stable/user_guide/indexing.html#returning-a-view-versus-a-copy\n",
      "  y[y== \"Ghost\"] = 1\n",
      "<ipython-input-17-8c52c4137220>:8: SettingWithCopyWarning: \n",
      "A value is trying to be set on a copy of a slice from a DataFrame\n",
      "\n",
      "See the caveats in the documentation: https://pandas.pydata.org/pandas-docs/stable/user_guide/indexing.html#returning-a-view-versus-a-copy\n",
      "  y[y==\"Goblin\"] = 2\n"
     ]
    }
   ],
   "source": [
    "from sklearn.model_selection import train_test_split\n",
    "from sklearn.metrics import classification_report\n",
    "from sklearn.model_selection import cross_val_score\n",
    "\n",
    "y = train_df[\"type\"]\n",
    "y[y== \"Ghoul\"] = 0\n",
    "y[y== \"Ghost\"] = 1\n",
    "y[y==\"Goblin\"] = 2 \n",
    "y = y.astype(int)\n",
    "\n",
    "train_df = train_df.drop('id', axis= 1)\n",
    "train_df = train_df.drop('type', axis= 1)\n",
    "X = train_df.values\n",
    "\n",
    "x_train, x_test, y_train, y_test = train_test_split(X , y,test_size = 0.3, random_state=13)"
   ]
  },
  {
   "cell_type": "code",
   "execution_count": 28,
   "metadata": {},
   "outputs": [
    {
     "data": {
      "application/vnd.jupyter.widget-view+json": {
       "model_id": "205d9475530a4ae6b1f5e04468f040b0",
       "version_major": 2,
       "version_minor": 0
      },
      "text/plain": [
       "MetricVisualizer(layout=Layout(align_self='stretch', height='500px'))"
      ]
     },
     "metadata": {},
     "output_type": "display_data"
    },
    {
     "name": "stdout",
     "output_type": "stream",
     "text": [
      "0:\tlearn: 0.8771062\ttest: 0.8927368\tbest: 0.8927368 (0)\ttotal: 3.83ms\tremaining: 187ms\n",
      "1:\tlearn: 0.7423730\ttest: 0.7855245\tbest: 0.7855245 (1)\ttotal: 10.3ms\tremaining: 247ms\n",
      "2:\tlearn: 0.6655961\ttest: 0.7235656\tbest: 0.7235656 (2)\ttotal: 16.6ms\tremaining: 260ms\n",
      "3:\tlearn: 0.6101273\ttest: 0.6952965\tbest: 0.6952965 (3)\ttotal: 19.2ms\tremaining: 221ms\n",
      "4:\tlearn: 0.5472436\ttest: 0.6707002\tbest: 0.6707002 (4)\ttotal: 27.6ms\tremaining: 249ms\n",
      "5:\tlearn: 0.5180644\ttest: 0.6536430\tbest: 0.6536430 (5)\ttotal: 32ms\tremaining: 235ms\n",
      "6:\tlearn: 0.4926745\ttest: 0.6525851\tbest: 0.6525851 (6)\ttotal: 36.9ms\tremaining: 226ms\n",
      "7:\tlearn: 0.4725600\ttest: 0.6506235\tbest: 0.6506235 (7)\ttotal: 43.3ms\tremaining: 228ms\n",
      "8:\tlearn: 0.4524438\ttest: 0.6425812\tbest: 0.6425812 (8)\ttotal: 46ms\tremaining: 209ms\n",
      "9:\tlearn: 0.4320864\ttest: 0.6439090\tbest: 0.6425812 (8)\ttotal: 49.2ms\tremaining: 197ms\n",
      "10:\tlearn: 0.4156636\ttest: 0.6419426\tbest: 0.6419426 (10)\ttotal: 57.8ms\tremaining: 205ms\n",
      "11:\tlearn: 0.3913561\ttest: 0.6298163\tbest: 0.6298163 (11)\ttotal: 61.2ms\tremaining: 194ms\n",
      "12:\tlearn: 0.3785884\ttest: 0.6298961\tbest: 0.6298163 (11)\ttotal: 63.7ms\tremaining: 181ms\n",
      "13:\tlearn: 0.3599851\ttest: 0.6334247\tbest: 0.6298163 (11)\ttotal: 69.2ms\tremaining: 178ms\n",
      "14:\tlearn: 0.3432661\ttest: 0.6331600\tbest: 0.6298163 (11)\ttotal: 72.5ms\tremaining: 169ms\n",
      "15:\tlearn: 0.3293254\ttest: 0.6373364\tbest: 0.6298163 (11)\ttotal: 75.9ms\tremaining: 161ms\n",
      "16:\tlearn: 0.3125940\ttest: 0.6417748\tbest: 0.6298163 (11)\ttotal: 81.5ms\tremaining: 158ms\n",
      "17:\tlearn: 0.3017430\ttest: 0.6432801\tbest: 0.6298163 (11)\ttotal: 85.9ms\tremaining: 153ms\n",
      "18:\tlearn: 0.2923123\ttest: 0.6482665\tbest: 0.6298163 (11)\ttotal: 89ms\tremaining: 145ms\n",
      "19:\tlearn: 0.2870466\ttest: 0.6449981\tbest: 0.6298163 (11)\ttotal: 91.4ms\tremaining: 137ms\n",
      "20:\tlearn: 0.2758916\ttest: 0.6510791\tbest: 0.6298163 (11)\ttotal: 95ms\tremaining: 131ms\n",
      "21:\tlearn: 0.2685766\ttest: 0.6565749\tbest: 0.6298163 (11)\ttotal: 99.8ms\tremaining: 127ms\n",
      "22:\tlearn: 0.2568820\ttest: 0.6527142\tbest: 0.6298163 (11)\ttotal: 103ms\tremaining: 121ms\n",
      "23:\tlearn: 0.2490347\ttest: 0.6509729\tbest: 0.6298163 (11)\ttotal: 106ms\tremaining: 114ms\n",
      "24:\tlearn: 0.2418449\ttest: 0.6573153\tbest: 0.6298163 (11)\ttotal: 109ms\tremaining: 109ms\n",
      "25:\tlearn: 0.2307230\ttest: 0.6585399\tbest: 0.6298163 (11)\ttotal: 115ms\tremaining: 106ms\n",
      "26:\tlearn: 0.2258124\ttest: 0.6650055\tbest: 0.6298163 (11)\ttotal: 120ms\tremaining: 102ms\n",
      "27:\tlearn: 0.2188251\ttest: 0.6694712\tbest: 0.6298163 (11)\ttotal: 123ms\tremaining: 96.5ms\n",
      "28:\tlearn: 0.2111596\ttest: 0.6705783\tbest: 0.6298163 (11)\ttotal: 132ms\tremaining: 95.9ms\n",
      "29:\tlearn: 0.2060217\ttest: 0.6803189\tbest: 0.6298163 (11)\ttotal: 136ms\tremaining: 90.6ms\n",
      "30:\tlearn: 0.1997177\ttest: 0.6840930\tbest: 0.6298163 (11)\ttotal: 139ms\tremaining: 85.4ms\n",
      "31:\tlearn: 0.1950173\ttest: 0.6817768\tbest: 0.6298163 (11)\ttotal: 145ms\tremaining: 81.7ms\n",
      "32:\tlearn: 0.1917370\ttest: 0.6829637\tbest: 0.6298163 (11)\ttotal: 151ms\tremaining: 77.9ms\n",
      "33:\tlearn: 0.1869764\ttest: 0.6922043\tbest: 0.6298163 (11)\ttotal: 154ms\tremaining: 72.7ms\n",
      "34:\tlearn: 0.1814594\ttest: 0.6851652\tbest: 0.6298163 (11)\ttotal: 161ms\tremaining: 68.8ms\n",
      "35:\tlearn: 0.1770251\ttest: 0.6839043\tbest: 0.6298163 (11)\ttotal: 164ms\tremaining: 63.7ms\n",
      "36:\tlearn: 0.1728006\ttest: 0.6877182\tbest: 0.6298163 (11)\ttotal: 167ms\tremaining: 58.5ms\n",
      "37:\tlearn: 0.1696216\ttest: 0.6901265\tbest: 0.6298163 (11)\ttotal: 169ms\tremaining: 53.4ms\n",
      "38:\tlearn: 0.1649208\ttest: 0.6896517\tbest: 0.6298163 (11)\ttotal: 173ms\tremaining: 48.7ms\n",
      "39:\tlearn: 0.1609624\ttest: 0.6953167\tbest: 0.6298163 (11)\ttotal: 178ms\tremaining: 44.6ms\n",
      "40:\tlearn: 0.1591071\ttest: 0.6973629\tbest: 0.6298163 (11)\ttotal: 181ms\tremaining: 39.8ms\n",
      "41:\tlearn: 0.1541502\ttest: 0.6998591\tbest: 0.6298163 (11)\ttotal: 184ms\tremaining: 35.1ms\n",
      "42:\tlearn: 0.1500749\ttest: 0.6973563\tbest: 0.6298163 (11)\ttotal: 190ms\tremaining: 31ms\n",
      "43:\tlearn: 0.1483629\ttest: 0.6975266\tbest: 0.6298163 (11)\ttotal: 195ms\tremaining: 26.6ms\n",
      "44:\tlearn: 0.1442274\ttest: 0.7026783\tbest: 0.6298163 (11)\ttotal: 197ms\tremaining: 21.9ms\n",
      "45:\tlearn: 0.1402614\ttest: 0.7023770\tbest: 0.6298163 (11)\ttotal: 200ms\tremaining: 17.4ms\n",
      "46:\tlearn: 0.1374946\ttest: 0.6990873\tbest: 0.6298163 (11)\ttotal: 206ms\tremaining: 13.2ms\n",
      "47:\tlearn: 0.1342611\ttest: 0.7010664\tbest: 0.6298163 (11)\ttotal: 211ms\tremaining: 8.78ms\n",
      "48:\tlearn: 0.1316921\ttest: 0.7020280\tbest: 0.6298163 (11)\ttotal: 213ms\tremaining: 4.35ms\n",
      "49:\tlearn: 0.1294564\ttest: 0.7032188\tbest: 0.6298163 (11)\ttotal: 217ms\tremaining: 0us\n",
      "\n",
      "bestTest = 0.6298163079\n",
      "bestIteration = 11\n",
      "\n",
      "Shrink model to first 12 iterations.\n"
     ]
    },
    {
     "data": {
      "text/plain": [
       "<catboost.core.CatBoostClassifier at 0x258872d6ee0>"
      ]
     },
     "execution_count": 28,
     "metadata": {},
     "output_type": "execute_result"
    }
   ],
   "source": [
    "from catboost import CatBoostClassifier\n",
    "from sklearn.model_selection import RandomizedSearchCV\n",
    "\n",
    "\n",
    "\n",
    "CATboost = CatBoostClassifier(\n",
    "    iterations=50,\n",
    "    random_seed=42,\n",
    "    learning_rate=0.5,\n",
    "    custom_loss=['AUC', 'Accuracy']\n",
    ")\n",
    "CATboost.fit(x_train, y_train,eval_set = (x_test,y_test ) , plot= True)\n",
    "#predictions = CATboost.predict(x_test)\n",
    "#print(classification_report(y_test, predictions))\n",
    "#cross_val_score(CATboost, x_train, y_train, cv=10).mean()"
   ]
  },
  {
   "cell_type": "code",
   "execution_count": 19,
   "metadata": {},
   "outputs": [],
   "source": [
    "test_df\n",
    "colors  = pd.get_dummies(test_df.color, prefix= 'color')\n",
    "test_df[list(colors.columns)] = colors\n",
    "test_df = test_df.drop([\"color\"], axis = 1)\n",
    "to_standartize = test_df[[\"bone_length\",\"rotting_flesh\" , \"hair_length\", \"has_soul\"]]\n",
    "standartized = scaler.fit_transform(to_standartize)\n",
    "test_df[[\"bone_length\",\"rotting_flesh\" , \"hair_length\", \"has_soul\"]] = standartized\n"
   ]
  },
  {
   "cell_type": "markdown",
   "metadata": {},
   "source": [
    "надо подточить модельку "
   ]
  },
  {
   "cell_type": "code",
   "execution_count": 20,
   "metadata": {},
   "outputs": [],
   "source": [
    "test_df = test_df.drop('id', axis= 1).values\n"
   ]
  },
  {
   "cell_type": "code",
   "execution_count": 21,
   "metadata": {},
   "outputs": [],
   "source": [
    "res = CATboost.predict(test_df)"
   ]
  },
  {
   "cell_type": "code",
   "execution_count": 22,
   "metadata": {},
   "outputs": [],
   "source": [
    "res = res.astype('str')"
   ]
  },
  {
   "cell_type": "code",
   "execution_count": 23,
   "metadata": {},
   "outputs": [],
   "source": [
    "res[res == \"0\"] = \"Ghoul\"\n",
    "res[res == \"1\"] = \"Ghost\"\n",
    "res[res == \"2\"] = \"Goblin\"\n"
   ]
  },
  {
   "cell_type": "code",
   "execution_count": 24,
   "metadata": {},
   "outputs": [],
   "source": [
    "result = pd.read_csv('data/sample_submission.csv.zip')"
   ]
  },
  {
   "cell_type": "code",
   "execution_count": 25,
   "metadata": {},
   "outputs": [],
   "source": [
    "result['type'] = res"
   ]
  },
  {
   "cell_type": "code",
   "execution_count": 26,
   "metadata": {},
   "outputs": [],
   "source": [
    "result.to_csv(\"data/sample_submission.csv\", index = False)"
   ]
  },
  {
   "cell_type": "code",
   "execution_count": 27,
   "metadata": {},
   "outputs": [
    {
     "data": {
      "text/html": [
       "<div>\n",
       "<style scoped>\n",
       "    .dataframe tbody tr th:only-of-type {\n",
       "        vertical-align: middle;\n",
       "    }\n",
       "\n",
       "    .dataframe tbody tr th {\n",
       "        vertical-align: top;\n",
       "    }\n",
       "\n",
       "    .dataframe thead th {\n",
       "        text-align: right;\n",
       "    }\n",
       "</style>\n",
       "<table border=\"1\" class=\"dataframe\">\n",
       "  <thead>\n",
       "    <tr style=\"text-align: right;\">\n",
       "      <th></th>\n",
       "      <th>id</th>\n",
       "      <th>type</th>\n",
       "    </tr>\n",
       "  </thead>\n",
       "  <tbody>\n",
       "    <tr>\n",
       "      <th>0</th>\n",
       "      <td>3</td>\n",
       "      <td>Ghoul</td>\n",
       "    </tr>\n",
       "    <tr>\n",
       "      <th>1</th>\n",
       "      <td>6</td>\n",
       "      <td>Goblin</td>\n",
       "    </tr>\n",
       "    <tr>\n",
       "      <th>2</th>\n",
       "      <td>9</td>\n",
       "      <td>Ghoul</td>\n",
       "    </tr>\n",
       "    <tr>\n",
       "      <th>3</th>\n",
       "      <td>10</td>\n",
       "      <td>Ghost</td>\n",
       "    </tr>\n",
       "    <tr>\n",
       "      <th>4</th>\n",
       "      <td>13</td>\n",
       "      <td>Ghost</td>\n",
       "    </tr>\n",
       "    <tr>\n",
       "      <th>...</th>\n",
       "      <td>...</td>\n",
       "      <td>...</td>\n",
       "    </tr>\n",
       "    <tr>\n",
       "      <th>524</th>\n",
       "      <td>893</td>\n",
       "      <td>Goblin</td>\n",
       "    </tr>\n",
       "    <tr>\n",
       "      <th>525</th>\n",
       "      <td>894</td>\n",
       "      <td>Ghost</td>\n",
       "    </tr>\n",
       "    <tr>\n",
       "      <th>526</th>\n",
       "      <td>895</td>\n",
       "      <td>Ghoul</td>\n",
       "    </tr>\n",
       "    <tr>\n",
       "      <th>527</th>\n",
       "      <td>898</td>\n",
       "      <td>Ghost</td>\n",
       "    </tr>\n",
       "    <tr>\n",
       "      <th>528</th>\n",
       "      <td>899</td>\n",
       "      <td>Ghost</td>\n",
       "    </tr>\n",
       "  </tbody>\n",
       "</table>\n",
       "<p>529 rows × 2 columns</p>\n",
       "</div>"
      ],
      "text/plain": [
       "      id    type\n",
       "0      3   Ghoul\n",
       "1      6  Goblin\n",
       "2      9   Ghoul\n",
       "3     10   Ghost\n",
       "4     13   Ghost\n",
       "..   ...     ...\n",
       "524  893  Goblin\n",
       "525  894   Ghost\n",
       "526  895   Ghoul\n",
       "527  898   Ghost\n",
       "528  899   Ghost\n",
       "\n",
       "[529 rows x 2 columns]"
      ]
     },
     "execution_count": 27,
     "metadata": {},
     "output_type": "execute_result"
    }
   ],
   "source": [
    "result"
   ]
  },
  {
   "cell_type": "code",
   "execution_count": null,
   "metadata": {},
   "outputs": [],
   "source": []
  }
 ],
 "metadata": {
  "interpreter": {
   "hash": "50b6717627593aefd50e51670e42424ecb36e3d1a6020ba1b74ceefbbbb2094d"
  },
  "kernelspec": {
   "display_name": "Python 3.8.8 64-bit ('gee': conda)",
   "language": "python",
   "name": "python3"
  },
  "language_info": {
   "codemirror_mode": {
    "name": "ipython",
    "version": 3
   },
   "file_extension": ".py",
   "mimetype": "text/x-python",
   "name": "python",
   "nbconvert_exporter": "python",
   "pygments_lexer": "ipython3",
   "version": "3.8.8"
  },
  "orig_nbformat": 4
 },
 "nbformat": 4,
 "nbformat_minor": 2
}
